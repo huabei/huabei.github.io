{
 "cells": [
  {
   "cell_type": "code",
   "execution_count": 1,
   "metadata": {
    "collapsed": true
   },
   "outputs": [],
   "source": [
    "from selenium import webdriver\n",
    "from selenium.webdriver.common.by import By\n",
    "from selenium.webdriver.edge.options import Options\n",
    "from collections import defaultdict\n",
    "from utils import get_seminars_url_info\n",
    "from selenium.common.exceptions import TimeoutException\n",
    "from selenium.webdriver.support.wait import WebDriverWait\n",
    "from utils import get_driver, Logger, get_url\n",
    "import time"
   ]
  },
  {
   "cell_type": "code",
   "execution_count": 2,
   "outputs": [],
   "source": [
    "url_file = 'web-site.txt'\n",
    "url_iter = open(url_file, 'r')\n",
    "total_result = dict()"
   ],
   "metadata": {
    "collapsed": false
   }
  },
  {
   "cell_type": "code",
   "execution_count": 2,
   "outputs": [],
   "source": [],
   "metadata": {
    "collapsed": false
   }
  },
  {
   "cell_type": "code",
   "execution_count": null,
   "outputs": [
    {
     "name": "stdout",
     "output_type": "stream",
     "text": [
      "get url: https://math.csu.edu.cn/kxyj/xsjl.htm\n",
      "start analyze https://math.csu.edu.cn/kxyj/xsjl.htm\n",
      "div class: , 1424160\n",
      "\t, clearfix, 1013175\n",
      "div class: clearfix, 1013175\n",
      "\t, , 625860\n",
      "div class: , 625860\n",
      "\t, news-group clearfix, 527772\n",
      "div class: news-group clearfix, 527772\n",
      "\t, lblist, 505812\n",
      "div class: lblist, 505812\n",
      "\t, menu news-sidebar, 445632\n",
      "div class: menu news-sidebar, 445632\n",
      "\t, clearfix, 33792\n",
      "get url: https://cse.csu.edu.cn/index/xsxx.htm\n",
      "start analyze https://cse.csu.edu.cn/index/xsxx.htm\n",
      "div class: container, 1208320\n",
      "\t, two-con, 896800\n",
      "div class: two-con, 896800\n",
      "\t, download, 764750\n",
      "div class: download, 764750\n",
      "\t, , 726750\n",
      "div class: , 726750\n",
      "\t, , 48450\n",
      "get url: https://ymsc.tsinghua.edu.cn/xshd/zxgkk/jqgkk.htm\n",
      "start analyze https://ymsc.tsinghua.edu.cn/xshd/zxgkk/jqgkk.htm\n",
      "div class: teacher_content_box, 1162720\n",
      "\t, kec_main_box, 1162720\n",
      "div class: kec_main_box, 1162720\n",
      "\t, kec_content_main, 1014000\n",
      "div class: kec_content_main, 1014000\n",
      "\t, list_box, 702000\n",
      "div class: list_box, 702000\n",
      "\t, list, 648000\n",
      "div class: list, 648000\n",
      "\t, li, 54000\n",
      "get url: https://ymsc.tsinghua.edu.cn/xshd/xsbg/xdsxbg.htm\n",
      "start analyze https://ymsc.tsinghua.edu.cn/xshd/xsbg/xdsxbg.htm\n",
      "div class: teacher_content_box, 7892736\n",
      "\t, kec_main_box, 7892736\n",
      "div class: kec_main_box, 7892736\n",
      "\t, kec_content_main, 6883200\n",
      "div class: kec_content_main, 6883200\n",
      "\t, xsbg_table, 6787200\n",
      "get url: https://iiis.tsinghua.edu.cn/seminars/\n",
      "start analyze https://iiis.tsinghua.edu.cn/seminars/\n",
      "div class: main, 2249240\n",
      "\t, container, 1872000\n",
      "div class: container, 1872000\n",
      "\t, list_jzuo, 1738800\n",
      "div class: list_jzuo, 1738800\n",
      "\t, , 1738800\n",
      "get url: https://life.tsinghua.edu.cn/xsbg.htm\n",
      "start analyze https://life.tsinghua.edu.cn/xsbg.htm\n",
      "div class: content, 3442752\n",
      "\t, mainWrap, 1725000\n",
      "div class: mainWrap, 1725000\n",
      "\t, innercontent, 1725000\n",
      "div class: innercontent, 1725000\n",
      "\t, newslist contbtmpd, 1544000\n",
      "div class: newslist contbtmpd, 1544000\n",
      "\t, , 1420000\n",
      "div class: , 1420000\n",
      "\t, withimg, 142000\n",
      "get url: https://www.chem.tsinghua.edu.cn/xsjz.htm\n",
      "start analyze https://www.chem.tsinghua.edu.cn/xsjz.htm\n",
      "div class: container, 2299570\n",
      "\t, img-ul wow fadeInUp animated, 1969500\n",
      "div class: img-ul wow fadeInUp animated, 1969500\n",
      "\t, , 327600\n",
      "get url: https://www.cs.tsinghua.edu.cn/index/xsbg.htm\n",
      "start analyze https://www.cs.tsinghua.edu.cn/index/xsbg.htm\n",
      "div class: list wrap clear, 1394400\n",
      "\t, list-l fl, 930030\n",
      "div class: list-l fl, 930030\n",
      "\t, list03, 896970\n",
      "div class: list03, 896970\n",
      "\t, , 896970\n",
      "div class: , 896970\n",
      "\t, , 849990\n",
      "div class: , 849990\n",
      "\t, , 73950\n",
      "get url: https://scbb.pkusz.edu.cn/jxgl/xsjz.htm\n",
      "get url time out\n",
      "********* https://scbb.pkusz.edu.cn/jxgl/xsjz.htm could not get! **************\n",
      "\n",
      "get url: https://sps.bjmu.edu.cn/xsbg/index.htm\n",
      "get url time out\n",
      "start analyze https://sps.bjmu.edu.cn/xsbg/index.htm\n",
      "div class: subPage, 1668000\n",
      "\t, pageList, 1354800\n",
      "div class: pageList, 1354800\n",
      "\t, articleList articleList2 articleList22, 1291200\n",
      "div class: articleList articleList2 articleList22, 1291200\n",
      "\t, subPageList, 1207200\n",
      "div class: subPageList, 1207200\n",
      "\t, , 44400\n",
      "get url: http://www.ai.pku.edu.cn/kxyj1/xsjz.htm\n",
      "start analyze http://www.ai.pku.edu.cn/kxyj1/xsjz.htm\n",
      "div class: container, 1274130\n",
      "\t, col-md-9 mainpt aos-init aos-animate, 931095\n",
      "div class: col-md-9 mainpt aos-init aos-animate, 931095\n",
      "\t, col-md-12, 806208\n",
      "div class: col-md-12, 806208\n",
      "\t, lists clearfix, 127296\n",
      "get url: https://bicmr.pku.edu.cn/index/events2.html\n",
      "start analyze https://bicmr.pku.edu.cn/index/events2.html\n",
      "div class: mainpart f-scroll main-pt, 2358464\n",
      "\t, container wrap clearfix, 1720856\n",
      "div class: container wrap clearfix, 1720856\n",
      "\t, contents, 1720856\n",
      "div class: contents, 1720856\n",
      "\t, aboutp clearfix, 1720856\n",
      "div class: aboutp clearfix, 1720856\n",
      "\t, list-l, 1063335\n",
      "div class: list-l, 1063335\n",
      "\t, page, 164255\n",
      "get url: http://www.aais.pku.edu.cn/yanjiu/news.php?class2=149\n",
      "start analyze http://www.aais.pku.edu.cn/yanjiu/news.php?class2=149\n",
      "div class: sidebar inner, 822000\n",
      "\t, sb_box, 630648\n",
      "div class: sb_box, 630648\n",
      "\t, active, 579016\n",
      "div class: active, 579016\n",
      "\t, nnww, 555966\n",
      "div class: nnww, 555966\n",
      "\t, , 57980\n",
      "get url: https://future.pku.edu.cn/xwyjz/jz/index.htm\n",
      "start analyze https://future.pku.edu.cn/xwyjz/jz/index.htm\n",
      "div class: wrap_content, 5594816\n",
      "\t, content, 5106896\n",
      "div class: content, 5106896\n",
      "\t, page_content, 4882072\n",
      "div class: page_content, 4882072\n",
      "\t, sub_043 ul-inline, 4737632\n",
      "div class: sub_043 ul-inline, 4737632\n",
      "\t, , 4888512\n",
      "div class: , 4888512\n",
      "\t, , 243648\n",
      "get url: http://cs.pku.edu.cn/xwgg/jzxx.htm\n",
      "start analyze http://cs.pku.edu.cn/xwgg/jzxx.htm\n",
      "div class: subPage_con, 866880\n",
      "\t, sub_right marginBot, 645600\n",
      "div class: sub_right marginBot, 645600\n",
      "\t, pageArticle, 581040\n",
      "div class: pageArticle, 581040\n",
      "\t, article cur02, 581040\n",
      "div class: article cur02, 581040\n",
      "\t, list01, 454080\n",
      "div class: list01, 454080\n",
      "\t, , 45408\n",
      "get url: https://eecs.pku.edu.cn/index/jzxx.htm\n",
      "start analyze https://eecs.pku.edu.cn/index/jzxx.htm\n",
      "div class: wrapper, 3025824\n",
      "\t, list-page clearfix, 1953920\n",
      "all child size is 0\n",
      "div class: list-page clearfix, 1953920\n",
      "\t, container, 1\n",
      "div class: container, 1\n",
      "\t, right-con clearfix animated fadeInRight, 1146880\n",
      "div class: right-con clearfix animated fadeInRight, 1146880\n",
      "\t, clearfix, 1087744\n",
      "div class: clearfix, 1087744\n",
      "\t, list-text, 1034880\n",
      "div class: list-text, 1034880\n",
      "\t, , 68992\n",
      "get url: http://www.bio.pku.edu.cn/homes/Index/news_jz/29/29.html\n",
      "start analyze http://www.bio.pku.edu.cn/homes/Index/news_jz/29/29.html\n",
      "div class: page soogee_page, 2087435\n",
      "\t, common_width, 1398000\n",
      "div class: common_width, 1398000\n",
      "\t, row, 1432950\n",
      "div class: row, 1432950\n",
      "\t, col-md-9, 1047605\n",
      "div class: col-md-9, 1047605\n",
      "\t, chair_list, 951045\n",
      "div class: chair_list, 951045\n",
      "\t, formerly, 886160\n",
      "div class: formerly, 886160\n",
      "\t, , 831040\n",
      "div class: , 831040\n",
      "\t, , 41552\n",
      "get url: https://www.chem.pku.edu.cn/xzjz/index.htm\n",
      "start analyze https://www.chem.pku.edu.cn/xzjz/index.htm\n",
      "div class: subRight, 731538\n",
      "\t, list03, 629280\n",
      "div class: list03, 629280\n",
      "\t, , 30590\n",
      "get url: https://www.math.pku.edu.cn/kxyj/xsbg/tlb/index.htm\n",
      "start analyze https://www.math.pku.edu.cn/kxyj/xsbg/tlb/index.htm\n",
      "div class: subPage_con, 3267600\n",
      "\t, sub_right, 2472484\n",
      "div class: sub_right, 2472484\n",
      "\t, subcontentTotal, 2430716\n",
      "div class: subcontentTotal, 2430716\n",
      "\t, subcontent, 2430716\n",
      "div class: subcontent, 2430716\n",
      "\t, subHistoryBox, 2376236\n",
      "div class: subHistoryBox, 2376236\n",
      "\t, scholarsList, 2305412\n",
      "div class: scholarsList, 2305412\n",
      "\t, , 99820\n",
      "get url: https://ai.sjtu.edu.cn/info/academic\n",
      "start analyze https://ai.sjtu.edu.cn/info/academic\n",
      "div class: news, 2179710\n",
      "\t, , 2179710\n",
      "div class: , 2179710\n",
      "\t, acaslide, 184600\n",
      "no title\n",
      "get url: http://www.bio-x.cn/Web/List/10\n",
      "start analyze http://www.bio-x.cn/Web/List/10\n",
      "div class: pg, 2774155\n",
      "\t, pMain, 2663355\n",
      "div class: pMain, 2663355\n",
      "\t, wp clearfix, 2307600\n",
      "div class: wp clearfix, 2307600\n",
      "\t, pMainFr, 1753776\n",
      "div class: pMainFr, 1753776\n",
      "\t, pMainCon, 1696320\n",
      "div class: pMainCon, 1696320\n",
      "\t, newsList, 1696320\n",
      "div class: newsList, 1696320\n",
      "\t, clearfix, 1587792\n",
      "div class: clearfix, 1587792\n",
      "\t, , 133152\n",
      "get url: https://fsctm.sjtu.edu.cn/xshd1/jzbg.htm\n",
      "start analyze https://fsctm.sjtu.edu.cn/xshd1/jzbg.htm\n",
      "div class: box , 3378080\n",
      "\t, nycon, 3047840\n",
      "div class: nycon, 3047840\n",
      "\t, dd1 container, 2154120\n",
      "div class: dd1 container, 2154120\n",
      "\t, row, 2116980\n",
      "div class: row, 2116980\n",
      "\t, main-right col-lg-9 col-md-9 col-sm-8 col-xs-12, 1588590\n",
      "div class: main-right col-lg-9 col-md-9 col-sm-8 col-xs-12, 1588590\n",
      "\t, right-nr, 1450986\n",
      "div class: right-nr, 1450986\n",
      "\t, new-rcon, 1357490\n",
      "div class: new-rcon, 1357490\n",
      "\t, , 1357490\n",
      "div class: , 1357490\n",
      "\t, , 135749\n",
      "get url: https://shcam.sjtu.edu.cn/#/seminars\n",
      "start analyze https://shcam.sjtu.edu.cn/#/seminars\n",
      "div class: , 1633312\n",
      "\t, bg-gray-10 text-gray-900 font-sans , 1633312\n",
      "div class: bg-gray-10 text-gray-900 font-sans , 1633312\n",
      "\t, bg-white container m-auto max-w-6xl p-2, 1208448\n",
      "div class: bg-white container m-auto max-w-6xl p-2, 1208448\n",
      "\t, , 1146224\n",
      "div class: , 1146224\n",
      "\t, flex flex-wrap mt-4 , 698640\n",
      "div class: flex flex-wrap mt-4 , 698640\n",
      "\t, w-full sm:w-1/2 lg:w-1/3\n",
      "    sm:p-3 lg:p-3 py-3, 77695\n"
     ]
    }
   ],
   "source": [
    "# url_iter = [\"https://scbb.pkusz.edu.cn/jxgl/xsjz.htm\"]\n",
    "logger = Logger('./log')\n",
    "driver = get_driver(headless=False) # 无头会出错\n",
    "for url in url_iter:\n",
    "    url = url.strip()\n",
    "    driver.status = True\n",
    "    driver = get_url(driver, url, logger)\n",
    "    if not driver.status:\n",
    "        continue\n",
    "    print(f'start analyze {url}')\n",
    "    # try:\n",
    "    total_result[url] = get_seminars_url_info(driver, logger)\n",
    "    # except:\n",
    "    # logger(f'{url} analysis failed!')\n",
    "logger.close()"
   ],
   "metadata": {
    "collapsed": false,
    "pycharm": {
     "is_executing": true
    }
   }
  },
  {
   "cell_type": "code",
   "execution_count": 5,
   "outputs": [],
   "source": [
    "total_dict_t = total_result"
   ],
   "metadata": {
    "collapsed": false
   }
  },
  {
   "cell_type": "code",
   "execution_count": 9,
   "outputs": [],
   "source": [
    "import pandas as pd\n",
    "dataframe_list = list()\n",
    "for key, value in total_result.items():\n",
    "    if type(value) is pd.DataFrame:\n",
    "        dataframe_list.append(value)"
   ],
   "metadata": {
    "collapsed": false
   }
  },
  {
   "cell_type": "code",
   "execution_count": 11,
   "outputs": [
    {
     "data": {
      "text/plain": "                                                 报告题目  \\\n0   Holomorphic Floer Theory and exponential integ...   \n1                   Homeomorphisms of Euclidean space   \n2   From condensed matter theory to sub-wavelength...   \n3   A constructive proof of finite time blowup of ...   \n4   Unramified correspondance and virtual homology...   \n..                                                ...   \n95        Diffusion of Lorentz gases with flat points   \n96  Interleaved Group Convolutions for Efficient D...   \n97  Maximum entropy coding principle in neuronal n...   \n98  Generalized Teichmüller Spaces, Spin Structure...   \n99  Uniformization of Riemann surfaces, quasiconfo...   \n\n                                                  报告人        报告日期  \n0        Prof.Yan Soibelman (Kansas State University)  2022-12-09  \n1   Prof.Oscar Randal-Williams（University of Cambr...  2022-11-25  \n2                     Prof. Habib Ammari (ETH Zürich)  2022-11-18  \n3   Prof.Thomas Y. Hou (California Institute of Te...  2022-11-18  \n4      Prof. Vladimir Markovic (University of Oxford)  2022-11-15  \n..                                                ...         ...  \n95                                                张宏坤  2018-12-14  \n96                                                王井东  2018-12-07  \n97                                                周栋焯  2018-11-30  \n98                                                葉智皓  2018-11-23  \n99                              Athanase Papadopoulos  2018-11-16  \n\n[100 rows x 3 columns]",
      "text/html": "<div>\n<style scoped>\n    .dataframe tbody tr th:only-of-type {\n        vertical-align: middle;\n    }\n\n    .dataframe tbody tr th {\n        vertical-align: top;\n    }\n\n    .dataframe thead th {\n        text-align: right;\n    }\n</style>\n<table border=\"1\" class=\"dataframe\">\n  <thead>\n    <tr style=\"text-align: right;\">\n      <th></th>\n      <th>报告题目</th>\n      <th>报告人</th>\n      <th>报告日期</th>\n    </tr>\n  </thead>\n  <tbody>\n    <tr>\n      <th>0</th>\n      <td>Holomorphic Floer Theory and exponential integ...</td>\n      <td>Prof.Yan Soibelman (Kansas State University)</td>\n      <td>2022-12-09</td>\n    </tr>\n    <tr>\n      <th>1</th>\n      <td>Homeomorphisms of Euclidean space</td>\n      <td>Prof.Oscar Randal-Williams（University of Cambr...</td>\n      <td>2022-11-25</td>\n    </tr>\n    <tr>\n      <th>2</th>\n      <td>From condensed matter theory to sub-wavelength...</td>\n      <td>Prof. Habib Ammari (ETH Zürich)</td>\n      <td>2022-11-18</td>\n    </tr>\n    <tr>\n      <th>3</th>\n      <td>A constructive proof of finite time blowup of ...</td>\n      <td>Prof.Thomas Y. Hou (California Institute of Te...</td>\n      <td>2022-11-18</td>\n    </tr>\n    <tr>\n      <th>4</th>\n      <td>Unramified correspondance and virtual homology...</td>\n      <td>Prof. Vladimir Markovic (University of Oxford)</td>\n      <td>2022-11-15</td>\n    </tr>\n    <tr>\n      <th>...</th>\n      <td>...</td>\n      <td>...</td>\n      <td>...</td>\n    </tr>\n    <tr>\n      <th>95</th>\n      <td>Diffusion of Lorentz gases with flat points</td>\n      <td>张宏坤</td>\n      <td>2018-12-14</td>\n    </tr>\n    <tr>\n      <th>96</th>\n      <td>Interleaved Group Convolutions for Efficient D...</td>\n      <td>王井东</td>\n      <td>2018-12-07</td>\n    </tr>\n    <tr>\n      <th>97</th>\n      <td>Maximum entropy coding principle in neuronal n...</td>\n      <td>周栋焯</td>\n      <td>2018-11-30</td>\n    </tr>\n    <tr>\n      <th>98</th>\n      <td>Generalized Teichmüller Spaces, Spin Structure...</td>\n      <td>葉智皓</td>\n      <td>2018-11-23</td>\n    </tr>\n    <tr>\n      <th>99</th>\n      <td>Uniformization of Riemann surfaces, quasiconfo...</td>\n      <td>Athanase Papadopoulos</td>\n      <td>2018-11-16</td>\n    </tr>\n  </tbody>\n</table>\n<p>100 rows × 3 columns</p>\n</div>"
     },
     "execution_count": 11,
     "metadata": {},
     "output_type": "execute_result"
    }
   ],
   "source": [
    "pd.read_html(extract_links='all')"
   ],
   "metadata": {
    "collapsed": false
   }
  },
  {
   "cell_type": "code",
   "execution_count": 21,
   "outputs": [
    {
     "data": {
      "text/plain": "'8cb14b66-1dd9-4020-8518-487ffc2f6587'"
     },
     "execution_count": 21,
     "metadata": {},
     "output_type": "execute_result"
    }
   ],
   "source": [
    "from utils import find_max_div\n",
    "'61ebecfa-b4d3-4bec-a105-3ce49ac977cc'\n",
    "# divs = driver.find_elements(By.TAG_NAME, 'div')\n",
    "max_div, _ = find_max_div(driver)\n",
    "max_div.id"
   ],
   "metadata": {
    "collapsed": false
   }
  },
  {
   "cell_type": "code",
   "execution_count": 9,
   "outputs": [],
   "source": [
    "res = min_max_div.find_elements(By.XPATH, './div')\n"
   ],
   "metadata": {
    "collapsed": false
   }
  },
  {
   "cell_type": "code",
   "execution_count": 6,
   "outputs": [
    {
     "name": "stdout",
     "output_type": "stream",
     "text": [
      "https://ymsc.tsinghua.edu.cn/xshd/xsbg/xdsxbg.htm\n",
      "\n",
      "https://iiis.tsinghua.edu.cn/seminars/\n",
      "\n",
      "https://ai.sjtu.edu.cn/info/academic\n",
      "\n",
      "https://shcam.sjtu.edu.cn/#/seminars\n",
      "\n"
     ]
    }
   ],
   "source": [
    "\n",
    "for i in total_result.keys():\n",
    "    if len(dict(total_result[i])) == 0:\n",
    "        print(i)\n",
    "\n"
   ],
   "metadata": {
    "collapsed": false
   }
  },
  {
   "cell_type": "code",
   "execution_count": 10,
   "outputs": [],
   "source": [
    "url_1 = \"https://www.cs.tsinghua.edu.cn/index/xsbg.htm\"\n",
    "url_2 = \"https://cse.csu.edu.cn/index/xsxx.htm\""
   ],
   "metadata": {
    "collapsed": false
   }
  },
  {
   "cell_type": "code",
   "execution_count": null,
   "outputs": [],
   "source": [],
   "metadata": {
    "collapsed": false
   }
  },
  {
   "cell_type": "code",
   "execution_count": 4,
   "outputs": [],
   "source": [
    "\n",
    "driver.get(url_1)"
   ],
   "metadata": {
    "collapsed": false
   }
  },
  {
   "cell_type": "code",
   "execution_count": 5,
   "outputs": [],
   "source": [
    "total_result = list()\n",
    "total_result.append(get_seminars_uli_info(driver))"
   ],
   "metadata": {
    "collapsed": false
   }
  },
  {
   "cell_type": "code",
   "execution_count": 6,
   "outputs": [],
   "source": [
    "\n",
    "driver.get(url_2)\n"
   ],
   "metadata": {
    "collapsed": false
   }
  },
  {
   "cell_type": "code",
   "execution_count": 7,
   "outputs": [],
   "source": [
    "total_result.append(get_seminars_uli_info(driver))"
   ],
   "metadata": {
    "collapsed": false
   }
  },
  {
   "cell_type": "code",
   "execution_count": 17,
   "outputs": [
    {
     "data": {
      "text/plain": "'学术信息-中南大学计算机学院'"
     },
     "execution_count": 17,
     "metadata": {},
     "output_type": "execute_result"
    }
   ],
   "source": [
    "driver.title"
   ],
   "metadata": {
    "collapsed": false
   }
  },
  {
   "cell_type": "code",
   "execution_count": 21,
   "outputs": [],
   "source": [
    "# max_div.get_attribute('class')\n"
   ],
   "metadata": {
    "collapsed": false
   }
  },
  {
   "cell_type": "code",
   "execution_count": 25,
   "outputs": [
    {
     "data": {
      "text/plain": "['实用专利保护与撰写技术报告通知',\n '云边端智能专题系列报告',\n '华南理工大学谭明奎教授学术报告',\n '浙江大学林峰教授学术报告',\n '于东晓、肖梦白、Weihua Zhuang、Shiwen Mao、Nei Kato、Junshan Zhang、Yingying Chen、Shiwen Mao、成秀珍、崔曙光、Song Guo等教授学术报告',\n '哈尔滨工业大学郑为杰教授学术报告',\n '丹麦奥尔堡大学助理教授张淼博士学术报告',\n '郭斌、孔令和、凌振、王魏、尹捷明、于季弘、边凯归、林驰等教授学术报告',\n '西安交通大学李丽敏教授学术报告',\n '清华大学李建副教授学术报告',\n '上海交通大学高晓沨教授学术报告',\n '华中科技大学何琨教授学术报告',\n '东南大学耿新教授学术报告',\n '湖南大学杨亮教授\\\\东南大学徐刚副教授学术报告',\n '前沿信息技术（三期）十三----科创：知识图谱及应用实践']"
     },
     "execution_count": 25,
     "metadata": {},
     "output_type": "execute_result"
    }
   ],
   "source": [
    "result['title']"
   ],
   "metadata": {
    "collapsed": false
   }
  },
  {
   "cell_type": "code",
   "execution_count": null,
   "outputs": [],
   "source": [
    "\n",
    "element = driver.find_element(By.ID, 'sb_form_q')\n",
    "element.send_keys('WebDriver')\n",
    "element.submit()"
   ],
   "metadata": {
    "collapsed": false
   }
  },
  {
   "cell_type": "code",
   "execution_count": 26,
   "outputs": [],
   "source": [
    "# driver.close()\n",
    "# time.sleep(5)\n",
    "driver.quit()"
   ],
   "metadata": {
    "collapsed": false
   }
  }
 ],
 "metadata": {
  "kernelspec": {
   "display_name": "Python 3",
   "language": "python",
   "name": "python3"
  },
  "language_info": {
   "codemirror_mode": {
    "name": "ipython",
    "version": 2
   },
   "file_extension": ".py",
   "mimetype": "text/x-python",
   "name": "python",
   "nbconvert_exporter": "python",
   "pygments_lexer": "ipython2",
   "version": "2.7.6"
  }
 },
 "nbformat": 4,
 "nbformat_minor": 0
}
