{
 "cells": [
  {
   "cell_type": "code",
   "execution_count": 1,
   "metadata": {
    "collapsed": true
   },
   "outputs": [],
   "source": [
    "from selenium import webdriver\n",
    "from selenium.webdriver.common.by import By\n",
    "from selenium.webdriver.edge.options import Options\n",
    "from collections import defaultdict\n",
    "from utils import get_seminars_url_info\n",
    "from selenium.common.exceptions import TimeoutException\n",
    "from selenium.webdriver.support.wait import WebDriverWait\n",
    "import time"
   ]
  },
  {
   "cell_type": "code",
   "execution_count": 2,
   "outputs": [],
   "source": [
    "\n",
    "options = Options()\n",
    "# options.add_argument(\"headless\")\n",
    "driver = webdriver.Edge(options=options)\n",
    "# 载入页面等待10秒\n",
    "driver.set_page_load_timeout(10)\n",
    "driver.maximize_window()"
   ],
   "metadata": {
    "collapsed": false
   }
  },
  {
   "cell_type": "code",
   "execution_count": 3,
   "outputs": [],
   "source": [
    "url_file = 'web-site.txt'\n",
    "url_iter = open(url_file, 'r')\n",
    "total_result = dict()"
   ],
   "metadata": {
    "collapsed": false
   }
  },
  {
   "cell_type": "code",
   "execution_count": 3,
   "outputs": [],
   "source": [],
   "metadata": {
    "collapsed": false
   }
  },
  {
   "cell_type": "code",
   "execution_count": 4,
   "outputs": [
    {
     "name": "stdout",
     "output_type": "stream",
     "text": [
      "https://math.csu.edu.cn/kxyj/xsjl.htm\n",
      "学术交流-中南大学数学与统计学院 math.csu.edu.cn\n",
      "start analyze https://math.csu.edu.cn/kxyj/xsjl.htm\n",
      "div class:  1424160\n",
      "div class: clearfix 1424160\n",
      "div class:  1424160\n",
      "div class: news-group clearfix 1424160\n",
      "div class: lblist 1424160\n",
      "div class: menu news-sidebar 1424160\n",
      "https://cse.csu.edu.cn/index/xsxx.htm\n",
      "学术信息-中南大学计算机学院 cse.csu.edu.cn\n",
      "start analyze https://cse.csu.edu.cn/index/xsxx.htm\n",
      "div class: container 1208320\n",
      "div class: two-con 1208320\n",
      "div class: download 1208320\n",
      "div class:  1208320\n",
      "https://ymsc.tsinghua.edu.cn/xshd/zxgkk/jqgkk.htm\n",
      "近期公开课-清华丘成桐数学科学中心 ymsc.tsinghua.edu.cn\n",
      "start analyze https://ymsc.tsinghua.edu.cn/xshd/zxgkk/jqgkk.htm\n",
      "div class: teacher_content_box 1162720\n",
      "div class: kec_main_box 1162720\n",
      "div class: kec_content_main 1162720\n",
      "div class: list_box 1162720\n",
      "div class: list 1162720\n",
      "https://ymsc.tsinghua.edu.cn/xshd/xsbg/xdsxbg.htm\n",
      "现代数学报告-清华丘成桐数学科学中心 ymsc.tsinghua.edu.cn\n",
      "start analyze https://ymsc.tsinghua.edu.cn/xshd/xsbg/xdsxbg.htm\n",
      "div class: teacher_content_box 7892736\n",
      "div class: kec_main_box 7892736\n",
      "div class: kec_content_main 7892736\n",
      "https://iiis.tsinghua.edu.cn/seminars/\n",
      "清华大学交叉信息研究院 iiis.tsinghua.edu.cn\n",
      "start analyze https://iiis.tsinghua.edu.cn/seminars/\n",
      "div class: main 2249240\n",
      "div class: container 2249240\n",
      "div class: list_jzuo 2249240\n",
      "https://life.tsinghua.edu.cn/xsbg.htm\n",
      "学术报告-清华大学生命科学学院 life.tsinghua.edu.cn\n",
      "start analyze https://life.tsinghua.edu.cn/xsbg.htm\n",
      "div class: content 3442752\n",
      "div class: mainWrap 3442752\n",
      "div class: innercontent 3442752\n",
      "div class: newslist contbtmpd 3442752\n",
      "div class:  3442752\n",
      "https://www.chem.tsinghua.edu.cn/xsjz.htm\n",
      "学术讲座-清华大学化学系 www.chem.tsinghua.edu.cn\n",
      "start analyze https://www.chem.tsinghua.edu.cn/xsjz.htm\n",
      "div class: container 2299570\n",
      "div class: img-ul wow fadeInUp animated 2299570\n",
      "https://www.cs.tsinghua.edu.cn/index/xsbg.htm\n",
      "学术报告-清华大学计算机科学与技术系 www.cs.tsinghua.edu.cn\n",
      "start analyze https://www.cs.tsinghua.edu.cn/index/xsbg.htm\n",
      "div class: list wrap clear 1394400\n",
      "div class: list-l fl 1394400\n",
      "div class: list03 1394400\n",
      "div class:  1394400\n",
      "div class:  1394400\n",
      "https://scbb.pkusz.edu.cn/jxgl/xsjz.htm\n",
      "time out\n",
      "学术报告-清华大学计算机科学与技术系 scbb.pkusz.edu.cn\n",
      "start analyze https://scbb.pkusz.edu.cn/jxgl/xsjz.htm\n",
      "div class: list wrap clear 1394400\n",
      "div class: list-l fl 1394400\n",
      "div class: list03 1394400\n",
      "div class:  1394400\n",
      "div class:  1394400\n",
      "https://sps.bjmu.edu.cn/xsbg/index.htm\n",
      "time out\n",
      "北京大学药学院 sps.bjmu.edu.cn\n",
      "start analyze https://sps.bjmu.edu.cn/xsbg/index.htm\n",
      "div class: subPage 1668000\n",
      "div class: pageList 1668000\n",
      "div class: articleList articleList2 articleList22 1668000\n",
      "div class: subPageList 1668000\n",
      "http://www.ai.pku.edu.cn/kxyj1/xsjz.htm\n",
      "学术讲座-北京大学人工智能研究院 www.ai.pku.edu.cn\n",
      "start analyze http://www.ai.pku.edu.cn/kxyj1/xsjz.htm\n",
      "div class: container 1274130\n",
      "div class: col-md-9 mainpt aos-init aos-animate 1274130\n",
      "div class: col-md-12 1274130\n",
      "https://bicmr.pku.edu.cn/index/events2.html\n",
      "北京国际数学研究中心 bicmr.pku.edu.cn\n",
      "start analyze https://bicmr.pku.edu.cn/index/events2.html\n",
      "div class: mainpart f-scroll main-pt 2358464\n",
      "div class: container wrap clearfix 2358464\n",
      "div class: contents 2358464\n",
      "div class: aboutp clearfix 2358464\n",
      "div class: list-l 2358464\n",
      "http://www.aais.pku.edu.cn/yanjiu/news.php?class2=149\n",
      "学术讲座-北京大学前沿交叉学科研究院 www.aais.pku.edu.cn\n",
      "start analyze http://www.aais.pku.edu.cn/yanjiu/news.php?class2=149\n",
      "div class: sidebar inner 822000\n",
      "div class: sb_box 822000\n",
      "div class: active 822000\n",
      "div class: nnww 822000\n",
      "https://future.pku.edu.cn/xwyjz/jz/index.htm\n",
      "北京大学未来技术学院 future.pku.edu.cn\n",
      "start analyze https://future.pku.edu.cn/xwyjz/jz/index.htm\n",
      "div class: wrap_content 5594816\n",
      "div class: content 5594816\n",
      "div class: page_content 5594816\n",
      "div class: sub_043 ul-inline 5594816\n",
      "div class:  5594816\n",
      "http://cs.pku.edu.cn/xwgg/jzxx.htm\n",
      "讲座信息-北京大学计算机学院 cs.pku.edu.cn\n",
      "start analyze http://cs.pku.edu.cn/xwgg/jzxx.htm\n",
      "div class: subPage_con 866880\n",
      "div class: sub_right marginBot 866880\n",
      "div class: pageArticle 866880\n",
      "div class: article cur02 866880\n",
      "div class: list01 866880\n",
      "https://eecs.pku.edu.cn/index/jzxx.htm\n",
      "讲座信息-北京大学信息科学技术学院 eecs.pku.edu.cn\n",
      "start analyze https://eecs.pku.edu.cn/index/jzxx.htm\n",
      "div class: wrapper 3025824\n",
      "div class: list-page clearfix 3025824\n",
      "http://www.bio.pku.edu.cn/homes/Index/news_jz/29/29.html\n",
      "北京大学生命科学学院 www.bio.pku.edu.cn\n",
      "start analyze http://www.bio.pku.edu.cn/homes/Index/news_jz/29/29.html\n",
      "div class: page soogee_page 2087435\n",
      "div class: common_width 2087435\n",
      "div class: row 2087435\n",
      "div class: col-md-9 2087435\n",
      "div class: chair_list 2087435\n",
      "div class: formerly 2087435\n",
      "div class:  2087435\n",
      "https://www.chem.pku.edu.cn/xzjz/index.htm\n",
      "学术讲座_北京大学化学与分子工程学院 www.chem.pku.edu.cn\n",
      "start analyze https://www.chem.pku.edu.cn/xzjz/index.htm\n",
      "div class: subRight 731538\n",
      "div class: list03 731538\n",
      "https://www.math.pku.edu.cn/kxyj/xsbg/tlb/index.htm\n",
      "北京大学数学学院 www.math.pku.edu.cn\n",
      "start analyze https://www.math.pku.edu.cn/kxyj/xsbg/tlb/index.htm\n",
      "div class: subPage_con 3267600\n",
      "div class: sub_right 3267600\n",
      "div class: subcontentTotal 3267600\n",
      "div class: subcontent 3267600\n",
      "div class: subHistoryBox 3267600\n",
      "div class: scholarsList 3267600\n",
      "https://ai.sjtu.edu.cn/info/academic\n",
      "上海交通大学人工智能研究院 ai.sjtu.edu.cn\n",
      "start analyze https://ai.sjtu.edu.cn/info/academic\n",
      "div class: news 2179710\n",
      "div class:  2179710\n",
      "no title\n",
      "http://www.bio-x.cn/Web/List/10\n",
      "上海交通大学BIO-X研究院 www.bio-x.cn\n",
      "start analyze http://www.bio-x.cn/Web/List/10\n",
      "div class: pg 2774155\n",
      "div class: pMain 2774155\n",
      "div class: wp clearfix 2774155\n",
      "div class: pMainFr 2774155\n",
      "div class: pMainCon 2774155\n",
      "div class: newsList 2774155\n",
      "div class: clearfix 2774155\n",
      "https://fsctm.sjtu.edu.cn/xshd1/jzbg.htm\n",
      "讲座报告-变革性分子前沿科学中心 fsctm.sjtu.edu.cn\n",
      "start analyze https://fsctm.sjtu.edu.cn/xshd1/jzbg.htm\n",
      "div class: box  3378080\n",
      "div class: nycon 3378080\n",
      "div class: dd1 container 3378080\n",
      "div class: row 3378080\n",
      "div class: main-right col-lg-9 col-md-9 col-sm-8 col-xs-12 3378080\n",
      "div class: right-nr 3378080\n",
      "div class: new-rcon 3378080\n",
      "div class:  3378080\n",
      "https://shcam.sjtu.edu.cn/#/seminars\n",
      "上海应用数学中心(上海交通大学分中心) shcam.sjtu.edu.cn\n",
      "start analyze https://shcam.sjtu.edu.cn/#/seminars\n",
      "div class:  1633312\n",
      "div class: bg-gray-10 text-gray-900 font-sans  1633312\n",
      "div class: bg-white container m-auto max-w-6xl p-2 1633312\n",
      "div class:  1633312\n",
      "div class: flex flex-wrap mt-4  1633312\n",
      "no title\n",
      "no title\n",
      "no title\n",
      "no title\n",
      "no title\n",
      "no title\n",
      "no title\n",
      "no title\n",
      "no title\n",
      "https://pharm.sjtu.edu.cn/report.html\n",
      "上海交通大学药学院 pharm.sjtu.edu.cn\n",
      "start analyze https://pharm.sjtu.edu.cn/report.html\n",
      "div class: nyk 2130048\n",
      "div class: main 2130048\n",
      "div class: d2 right 2130048\n",
      "div class: news_lb 2130048\n",
      "https://life.sjtu.edu.cn/Data/List/bg\n",
      "学术报告 - 上海交通大学生命科学技术学院 life.sjtu.edu.cn\n",
      "start analyze https://life.sjtu.edu.cn/Data/List/bg\n",
      "div class: box 3251488\n",
      "div class: nycon 3251488\n",
      "div class: container  3251488\n",
      "div class: row 3251488\n",
      "div class: main-right col-lg-12 col-md-12 col-sm-12 col-xs-12 3251488\n",
      "div class: right-nr 3251488\n",
      "div class: data-list2 3251488\n",
      "https://scce.sjtu.edu.cn/index_xsrl.html\n",
      "学术日历-上海交通大学化学化工学院 scce.sjtu.edu.cn\n",
      "start analyze https://scce.sjtu.edu.cn/index_xsrl.html\n",
      "div class: ny 1834208\n",
      "div class: main 1834208\n",
      "div class: ny_k1 mh md40 1834208\n",
      "div class: n2 mh 1834208\n",
      "https://www.math.sjtu.edu.cn/Default/seminar/\n",
      "上海交通大学数学科学学院 www.math.sjtu.edu.cn\n",
      "start analyze https://www.math.sjtu.edu.cn/Default/seminar/\n",
      "div class: page-main wrap 2102400\n",
      "div class: page-show 2102400\n",
      "div class: research-list 2102400\n",
      "div class:  2102400\n",
      "https://www.zju.edu.cn/xs/list.htm\n",
      "学术 www.zju.edu.cn\n",
      "start analyze https://www.zju.edu.cn/xs/list.htm\n",
      "div class: wrap 931125\n",
      "div class: right-box main 931125\n",
      "div class: box-wrap 931125\n",
      "div class: box-main 931125\n",
      "div class: right-box-main 931125\n",
      "div class: right_content 931125\n",
      "div class:  931125\n",
      "div class: news 931125\n",
      "http://www.cls.zju.edu.cn/clscn/26342/list.htm\n",
      "活动预告 www.cls.zju.edu.cn\n",
      "start analyze http://www.cls.zju.edu.cn/clscn/26342/list.htm\n",
      "div class: list-content 660000\n",
      "div class: list-right fr 660000\n",
      "div class: list-right-content 660000\n",
      "div class: list clearfix 660000\n",
      "div class:  660000\n",
      "div class: cg-news-list 660000\n",
      "http://www.isee.zju.edu.cn/xsbg/list.htm\n",
      "学术报告 www.isee.zju.edu.cn\n",
      "start analyze http://www.isee.zju.edu.cn/xsbg/list.htm\n",
      "div class: list clearfix 1514976\n",
      "no title\n"
     ]
    }
   ],
   "source": [
    "# url_iter = [\"https://scbb.pkusz.edu.cn/jxgl/xsjz.htm\"]\n",
    "\n",
    "for url in url_iter:\n",
    "    url = url.strip()\n",
    "    print(url)\n",
    "    try:\n",
    "        driver.get(url)\n",
    "    except TimeoutException:\n",
    "        print('time out')\n",
    "    driver.implicitly_wait(1)\n",
    "    print(driver.title, url.split('//')[1].split('/')[0])\n",
    "    if driver.title == url.split('//')[1].split('/')[0]:\n",
    "        print(f'{url} could not get!')\n",
    "        continue\n",
    "    try:\n",
    "        WebDriverWait(driver, timeout=3).until(lambda d: d.find_element(By.TAG_NAME,\"div\"))\n",
    "    except TimeoutException:\n",
    "        print(url, 'time out')\n",
    "    # time.sleep(2)\n",
    "    # WebDriverWait(driver, timeout=3).until(lambda d: d.find_element(By.CLASS_NAME,\"nyk\"))\n",
    "    # time.sleep(10)\n",
    "    # try:\n",
    "    print(f'start analyze {url}')\n",
    "    total_result[url] = get_seminars_url_info(driver)\n",
    "    # except:\n",
    "    #     print(url)\n",
    "    #     break\n",
    "# url_iter.close()"
   ],
   "metadata": {
    "collapsed": false
   }
  },
  {
   "cell_type": "code",
   "execution_count": 5,
   "outputs": [],
   "source": [
    "title = driver.find_elements(By.CLASS_NAME, 'title')"
   ],
   "metadata": {
    "collapsed": false
   }
  },
  {
   "cell_type": "code",
   "execution_count": 4,
   "outputs": [],
   "source": [
    "from utils import find_max_div\n",
    "# divs = driver.find_elements(By.TAG_NAME, 'div')\n",
    "max_div, _ = find_max_div(driver)"
   ],
   "metadata": {
    "collapsed": false
   }
  },
  {
   "cell_type": "code",
   "execution_count": 9,
   "outputs": [],
   "source": [
    "res = min_max_div.find_elements(By.XPATH, './div')\n"
   ],
   "metadata": {
    "collapsed": false
   }
  },
  {
   "cell_type": "code",
   "execution_count": 6,
   "outputs": [
    {
     "name": "stdout",
     "output_type": "stream",
     "text": [
      "https://ymsc.tsinghua.edu.cn/xshd/xsbg/xdsxbg.htm\n",
      "\n",
      "https://iiis.tsinghua.edu.cn/seminars/\n",
      "\n",
      "https://ai.sjtu.edu.cn/info/academic\n",
      "\n",
      "https://shcam.sjtu.edu.cn/#/seminars\n",
      "\n"
     ]
    }
   ],
   "source": [
    "\n",
    "for i in total_result.keys():\n",
    "    if len(dict(total_result[i])) == 0:\n",
    "        print(i)\n"
   ],
   "metadata": {
    "collapsed": false
   }
  },
  {
   "cell_type": "code",
   "execution_count": 10,
   "outputs": [],
   "source": [
    "url_1 = \"https://www.cs.tsinghua.edu.cn/index/xsbg.htm\"\n",
    "url_2 = \"https://cse.csu.edu.cn/index/xsxx.htm\""
   ],
   "metadata": {
    "collapsed": false
   }
  },
  {
   "cell_type": "code",
   "execution_count": null,
   "outputs": [],
   "source": [],
   "metadata": {
    "collapsed": false
   }
  },
  {
   "cell_type": "code",
   "execution_count": 4,
   "outputs": [],
   "source": [
    "\n",
    "driver.get(url_1)"
   ],
   "metadata": {
    "collapsed": false
   }
  },
  {
   "cell_type": "code",
   "execution_count": 5,
   "outputs": [],
   "source": [
    "total_result = list()\n",
    "total_result.append(get_seminars_uli_info(driver))"
   ],
   "metadata": {
    "collapsed": false
   }
  },
  {
   "cell_type": "code",
   "execution_count": 6,
   "outputs": [],
   "source": [
    "\n",
    "driver.get(url_2)\n"
   ],
   "metadata": {
    "collapsed": false
   }
  },
  {
   "cell_type": "code",
   "execution_count": 7,
   "outputs": [],
   "source": [
    "total_result.append(get_seminars_uli_info(driver))"
   ],
   "metadata": {
    "collapsed": false
   }
  },
  {
   "cell_type": "code",
   "execution_count": 17,
   "outputs": [
    {
     "data": {
      "text/plain": "'学术信息-中南大学计算机学院'"
     },
     "execution_count": 17,
     "metadata": {},
     "output_type": "execute_result"
    }
   ],
   "source": [
    "driver.title"
   ],
   "metadata": {
    "collapsed": false
   }
  },
  {
   "cell_type": "code",
   "execution_count": 21,
   "outputs": [],
   "source": [
    "# max_div.get_attribute('class')\n"
   ],
   "metadata": {
    "collapsed": false
   }
  },
  {
   "cell_type": "code",
   "execution_count": 25,
   "outputs": [
    {
     "data": {
      "text/plain": "['实用专利保护与撰写技术报告通知',\n '云边端智能专题系列报告',\n '华南理工大学谭明奎教授学术报告',\n '浙江大学林峰教授学术报告',\n '于东晓、肖梦白、Weihua Zhuang、Shiwen Mao、Nei Kato、Junshan Zhang、Yingying Chen、Shiwen Mao、成秀珍、崔曙光、Song Guo等教授学术报告',\n '哈尔滨工业大学郑为杰教授学术报告',\n '丹麦奥尔堡大学助理教授张淼博士学术报告',\n '郭斌、孔令和、凌振、王魏、尹捷明、于季弘、边凯归、林驰等教授学术报告',\n '西安交通大学李丽敏教授学术报告',\n '清华大学李建副教授学术报告',\n '上海交通大学高晓沨教授学术报告',\n '华中科技大学何琨教授学术报告',\n '东南大学耿新教授学术报告',\n '湖南大学杨亮教授\\\\东南大学徐刚副教授学术报告',\n '前沿信息技术（三期）十三----科创：知识图谱及应用实践']"
     },
     "execution_count": 25,
     "metadata": {},
     "output_type": "execute_result"
    }
   ],
   "source": [
    "result['title']"
   ],
   "metadata": {
    "collapsed": false
   }
  },
  {
   "cell_type": "code",
   "execution_count": null,
   "outputs": [],
   "source": [
    "\n",
    "element = driver.find_element(By.ID, 'sb_form_q')\n",
    "element.send_keys('WebDriver')\n",
    "element.submit()"
   ],
   "metadata": {
    "collapsed": false
   }
  },
  {
   "cell_type": "code",
   "execution_count": 26,
   "outputs": [],
   "source": [
    "# driver.close()\n",
    "# time.sleep(5)\n",
    "driver.quit()"
   ],
   "metadata": {
    "collapsed": false
   }
  }
 ],
 "metadata": {
  "kernelspec": {
   "display_name": "Python 3",
   "language": "python",
   "name": "python3"
  },
  "language_info": {
   "codemirror_mode": {
    "name": "ipython",
    "version": 2
   },
   "file_extension": ".py",
   "mimetype": "text/x-python",
   "name": "python",
   "nbconvert_exporter": "python",
   "pygments_lexer": "ipython2",
   "version": "2.7.6"
  }
 },
 "nbformat": 4,
 "nbformat_minor": 0
}
